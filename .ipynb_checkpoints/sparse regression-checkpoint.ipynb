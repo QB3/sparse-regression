{
 "cells": [
  {
   "cell_type": "markdown",
   "metadata": {},
   "source": [
    "# Sparse Nonlinear Least Squares\n",
    "\n",
    "We're interested in nonlinear least squares problems of the form\n",
    "\n",
    "$$min_x \\|f(x)\\|_2^2,$$\n",
    "\n",
    "but prefer $x$ to be sparse. I proposed to tackle this by a reparametrization trick. I'm interested to know if prox methods could do this better, especially if they're adapted to second order methods. To this end, I'm going to try SKGLM on a linear version of the above, with $f(x) = Ax$."
   ]
  },
  {
   "cell_type": "code",
   "execution_count": 2,
   "metadata": {},
   "outputs": [],
   "source": [
    "import dataclasses as dc\n",
    "\n",
    "import numpy as np\n",
    "import matplotlib.pylab as plt\n",
    "\n",
    "@dc.dataclass\n",
    "class LASSOProblem:\n",
    "    A: np.ndarray = None\n",
    "    b: np.ndarray = None\n",
    "    lam: float = 0.\n",
    "\n",
    "    @classmethod\n",
    "    def random_problem(cls, rows=500, cols=1000) -> 'LASSOProblem':\n",
    "        return cls(\n",
    "            A=np.random.randn(rows, cols),\n",
    "            b=np.random.randn(rows),\n",
    "            lam=1.\n",
    "        )\n",
    "\n",
    "lasso_problem = LASSOProblem.random_problem()"
   ]
  },
  {
   "cell_type": "markdown",
   "metadata": {},
   "source": [
    "# Sparsity by Reparametrizing as Nonlinear Least Squares\n",
    "\n",
    "Regularizing a regression problem with a p-norm with $0<p\\leq 1$ causes some of the the entries of the solution to go to zero. The smaller $p$ is, the more aggresive the sparisification.\n",
    "\n",
    "Let's solve\n",
    "\n",
    "$$\\min_x \\|A x - b\\|_2^2 + \\lambda \\|x\\|_{2/3}^{2/3}.$$\n",
    "\n",
    "To do that, introduce the change of variables\n",
    "\n",
    "$$x = y^3,$$\n",
    "\n",
    "and rewrite the optimization problem as\n",
    "\n",
    "$$\\min_y \\|A y^3 - b\\|_2^2 + \\lambda \\|y\\|_2^2.$$"
   ]
  },
  {
   "cell_type": "code",
   "execution_count": null,
   "metadata": {},
   "outputs": [
    {
     "name": "stderr",
     "output_type": "stream",
     "text": [
      "/home/qbe/anaconda3/lib/python3.7/site-packages/ipykernel_launcher.py:17: FutureWarning: `rcond` parameter will change to the default of machine precision times ``max(M, N)`` where M and N are the input matrix dimensions.\n",
      "To use the future default and silence this warning we advise to pass `rcond=None`, to keep using the old, explicitly pass `rcond=-1`.\n"
     ]
    }
   ],
   "source": [
    "%%time\n",
    "\n",
    "import scipy.optimize\n",
    "\n",
    "def LASSO_reparametrized_nonlinear_least_squares(lasso: LASSOProblem) -> np.ndarray:\n",
    "    def func(y):\n",
    "        return np.hstack((\n",
    "            lasso.A.dot(y**3) - lasso.b,\n",
    "            np.sqrt(lasso.lam) * y\n",
    "        ))\n",
    "\n",
    "    def dfunc(y):\n",
    "        return np.vstack((\n",
    "          3 * lasso.A * y[None, :]**2,\n",
    "          np.sqrt(lasso.lam) * np.eye(len(y))\n",
    "        ))\n",
    "\n",
    "\n",
    "    x0 = np.linalg.lstsq(lasso.A, lasso.b)[0]\n",
    "    r = scipy.optimize.least_squares(\n",
    "      func, x0, jac=dfunc, method='lm',\n",
    "      max_nfev=100,\n",
    "    )\n",
    "\n",
    "    return r.x**3\n",
    "\n",
    "x_reparametrized_nonlinear_least_squares = LASSO_reparametrized_nonlinear_least_squares(lasso_problem)"
   ]
  },
  {
   "cell_type": "code",
   "execution_count": 7,
   "metadata": {},
   "outputs": [
    {
     "data": {
      "text/plain": [
       "(array([ 12.,  18.,  40.,  40.,  28., 754.,  39.,  43.,  19.,   7.]),\n",
       " array([-0.13126708, -0.10557702, -0.07988696, -0.0541969 , -0.02850684,\n",
       "        -0.00281678,  0.02287328,  0.04856335,  0.07425341,  0.09994347,\n",
       "         0.12563353]),\n",
       " <BarContainer object of 10 artists>)"
      ]
     },
     "execution_count": 7,
     "metadata": {},
     "output_type": "execute_result"
    },
    {
     "data": {
      "image/png": "[encoded data removed]",
      "text/plain": [
       "<Figure size 640x480 with 1 Axes>"
      ]
     },
     "metadata": {},
     "output_type": "display_data"
    }
   ],
   "source": [
    "plt.hist(x_reparametrized_nonlinear_least_squares);"
   ]
  },
  {
   "cell_type": "markdown",
   "metadata": {},
   "source": [
    "# SKGML\n",
    "\n",
    "SKGLM is a package for sparse linear regression."
   ]
  },
  {
   "cell_type": "code",
   "execution_count": 3,
   "metadata": {},
   "outputs": [
    {
     "name": "stdout",
     "output_type": "stream",
     "text": [
      "Stopping criterion max violation: 1.63e-01\n",
      "Iteration 1, 10 feats in subpb.\n",
      "Stopping criterion max violation: 1.17e-01\n",
      "Iteration 2, 20 feats in subpb.\n",
      "Stopping criterion max violation: 1.08e-01\n",
      "Iteration 3, 40 feats in subpb.\n",
      "Stopping criterion max violation: 1.04e-01\n",
      "Iteration 4, 80 feats in subpb.\n",
      "Stopping criterion max violation: 8.74e-02\n",
      "Iteration 5, 160 feats in subpb.\n",
      "Stopping criterion max violation: 4.60e-02\n",
      "Iteration 6, 304 feats in subpb.\n",
      "Stopping criterion max violation: 2.73e-02\n",
      "Iteration 7, 502 feats in subpb.\n",
      "Stopping criterion max violation: 1.41e-02\n",
      "Iteration 8, 604 feats in subpb.\n",
      "Stopping criterion max violation: 1.04e-02\n",
      "Iteration 9, 560 feats in subpb.\n",
      "Stopping criterion max violation: 3.02e-04\n",
      "Iteration 10, 562 feats in subpb.\n",
      "Stopping criterion max violation: 1.75e-05\n",
      "Iteration 11, 562 feats in subpb.\n",
      "Stopping criterion max violation: 3.78e-07\n",
      "Iteration 12, 562 feats in subpb.\n",
      "Stopping criterion max violation: 1.60e-08\n",
      "Iteration 13, 562 feats in subpb.\n",
      "Stopping criterion max violation: 4.96e-10\n",
      "Iteration 14, 562 feats in subpb.\n",
      "Stopping criterion max violation: 1.55e-11\n",
      "Iteration 15, 562 feats in subpb.\n",
      "Stopping criterion max violation: 1.03e-12\n",
      "Iteration 16, 562 feats in subpb.\n",
      "Stopping criterion max violation: 7.35e-14\n",
      "CPU times: user 4.14 s, sys: 129 ms, total: 4.27 s\n",
      "Wall time: 4.71 s\n"
     ]
    }
   ],
   "source": [
    "%%time\n",
    "\n",
    "import skglm\n",
    "\n",
    "def LASSO_skglm(lasso: LASSOProblem) -> np.ndarray:\n",
    "    model = skglm.GeneralizedLinearEstimator(\n",
    "        datafit=skglm.datafits.Quadratic(),\n",
    "        penalty=skglm.penalties.L2_3(lasso.lam / len(lasso.b)),\n",
    "        solver=skglm.solvers.AndersonCD(\n",
    "            tol=1e-12, verbose=True, fit_intercept=False,\n",
    "            ws_strategy=\"fixpoint\"\n",
    "        ),\n",
    "    )\n",
    "\n",
    "    model.fit(lasso.A, lasso.b)\n",
    "\n",
    "    return model.coef_\n",
    "\n",
    "x_skglm = LASSO_skglm(lasso_problem)"
   ]
  },
  {
   "cell_type": "code",
   "execution_count": 6,
   "metadata": {},
   "outputs": [
    {
     "data": {
      "text/plain": [
       "array([0., 0., 0., 0., 0., 0., 0., 0., 0., 0., 0., 0., 0., 0., 0., 0., 0.,\n",
       "       0., 0., 0., 0., 0., 0., 0., 0., 0., 0., 0., 0., 0., 0., 0., 0., 0.,\n",
       "       0., 0., 0., 0., 0., 0., 0., 0., 0., 0., 0., 0., 0., 0., 0., 0., 0.,\n",
       "       0., 0., 0., 0., 0., 0., 0., 0., 0., 0., 0., 0., 0., 0., 0., 0., 0.,\n",
       "       0., 0., 0., 0., 0., 0., 0., 0., 0., 0., 0., 0., 0., 0., 0., 0., 0.,\n",
       "       0., 0., 0., 0., 0., 0., 0., 0., 0., 0., 0., 0., 0., 0., 0., 0., 0.,\n",
       "       0., 0., 0., 0., 0., 0., 0., 0., 0., 0., 0., 0., 0., 0., 0., 0., 0.,\n",
       "       0., 0., 0., 0., 0., 0., 0., 0., 0., 0., 0., 0., 0., 0., 0., 0., 0.,\n",
       "       0., 0., 0., 0., 0., 0., 0., 0., 0., 0., 0., 0., 0., 0., 0., 0., 0.,\n",
       "       0., 0., 0., 0., 0., 0., 0., 0., 0., 0., 0., 0., 0., 0., 0., 0., 0.,\n",
       "       0., 0., 0., 0., 0., 0., 0., 0., 0., 0., 0., 0., 0., 0., 0., 0., 0.,\n",
       "       0., 0., 0., 0., 0., 0., 0., 0., 0., 0., 0., 0., 0., 0., 0., 0., 0.,\n",
       "       0., 0., 0., 0., 0., 0., 0., 0., 0., 0., 0., 0., 0., 0., 0., 0., 0.,\n",
       "       0., 0., 0., 0., 0., 0., 0., 0., 0., 0., 0., 0., 0., 0., 0., 0., 0.,\n",
       "       0., 0., 0., 0., 0., 0., 0., 0., 0., 0., 0., 0., 0., 0., 0., 0., 0.,\n",
       "       0., 0., 0., 0., 0., 0., 0., 0., 0., 0., 0., 0., 0., 0., 0., 0., 0.,\n",
       "       0., 0., 0., 0., 0., 0., 0., 0., 0., 0., 0., 0., 0., 0., 0., 0., 0.,\n",
       "       0., 0., 0., 0., 0., 0., 0., 0., 0., 0., 0., 0., 0., 0., 0., 0., 0.,\n",
       "       0., 0., 0., 0., 0., 0., 0., 0., 0., 0., 0., 0., 0., 0., 0., 0., 0.,\n",
       "       0., 0., 0., 0., 0., 0., 0., 0., 0., 0., 0., 0., 0., 0., 0., 0., 0.,\n",
       "       0., 0., 0., 0., 0., 0., 0., 0., 0., 0., 0., 0., 0., 0., 0., 0., 0.,\n",
       "       0., 0., 0., 0., 0., 0., 0., 0., 0., 0., 0., 0., 0., 0., 0., 0., 0.,\n",
       "       0., 0., 0., 0., 0., 0., 0., 0., 0., 0., 0., 0., 0., 0., 0., 0., 0.,\n",
       "       0., 0., 0., 0., 0., 0., 0., 0., 0., 0., 0., 0., 0., 0., 0., 0., 0.,\n",
       "       0., 0., 0., 0., 0., 0., 0., 0., 0., 0., 0., 0., 0., 0., 0., 0., 0.,\n",
       "       0., 0., 0., 0., 0., 0., 0., 0., 0., 0., 0., 0., 0., 0., 0., 0., 0.,\n",
       "       0., 0., 0., 0., 0., 0., 0., 0., 0., 0., 0., 0., 0., 0., 0., 0., 0.,\n",
       "       0., 0., 0., 0., 0., 0., 0., 0., 0., 0., 0., 0., 0., 0., 0., 0., 0.,\n",
       "       0., 0., 0., 0., 0., 0., 0., 0., 0., 0., 0., 0., 0., 0., 0., 0., 0.,\n",
       "       0., 0., 0., 0., 0., 0., 0., 0., 0., 0., 0., 0., 0., 0., 0., 0., 0.,\n",
       "       0., 0., 0., 0., 0., 0., 0., 0., 0., 0., 0., 0., 0., 0., 0., 0., 0.,\n",
       "       0., 0., 0., 0., 0., 0., 0., 0., 0., 0., 0., 0., 0., 0., 0., 0., 0.,\n",
       "       0., 0., 0., 0., 0., 0., 0., 0., 0., 0., 0., 0., 0., 0., 0., 0., 0.,\n",
       "       0., 0., 0., 0., 0., 0., 0., 0., 0., 0., 0., 0., 0., 0., 0., 0., 0.,\n",
       "       0., 0., 0., 0., 0., 0., 0., 0., 0., 0., 0., 0., 0., 0., 0., 0., 0.,\n",
       "       0., 0., 0., 0., 0., 0., 0., 0., 0., 0., 0., 0., 0., 0., 0., 0., 0.,\n",
       "       0., 0., 0., 0., 0., 0., 0., 0., 0., 0., 0., 0., 0., 0., 0., 0., 0.,\n",
       "       0., 0., 0., 0., 0., 0., 0., 0., 0., 0., 0., 0., 0., 0., 0., 0., 0.,\n",
       "       0., 0., 0., 0., 0., 0., 0., 0., 0., 0., 0., 0., 0., 0., 0., 0., 0.,\n",
       "       0., 0., 0., 0., 0., 0., 0., 0., 0., 0., 0., 0., 0., 0., 0., 0., 0.,\n",
       "       0., 0., 0., 0., 0., 0., 0., 0., 0., 0., 0., 0., 0., 0., 0., 0., 0.,\n",
       "       0., 0., 0., 0., 0., 0., 0., 0., 0., 0., 0., 0., 0., 0., 0., 0., 0.,\n",
       "       0., 0., 0., 0., 0., 0., 0., 0., 0., 0., 0., 0., 0., 0., 0., 0., 0.,\n",
       "       0., 0., 0., 0., 0., 0., 0., 0., 0., 0., 0., 0., 0., 0., 0., 0., 0.,\n",
       "       0., 0., 0., 0., 0., 0., 0., 0., 0., 0., 0., 0., 0., 0., 0., 0., 0.,\n",
       "       0., 0., 0., 0., 0., 0., 0., 0., 0., 0., 0., 0., 0., 0., 0., 0., 0.,\n",
       "       0., 0., 0., 0., 0., 0., 0., 0., 0., 0., 0., 0., 0., 0., 0., 0., 0.,\n",
       "       0., 0., 0., 0., 0., 0., 0., 0., 0., 0., 0., 0., 0., 0., 0., 0., 0.,\n",
       "       0., 0., 0., 0., 0., 0., 0., 0., 0., 0., 0., 0., 0., 0., 0., 0., 0.,\n",
       "       0., 0., 0., 0., 0., 0., 0., 0., 0., 0., 0., 0., 0., 0., 0., 0., 0.,\n",
       "       0., 0., 0., 0., 0., 0., 0., 0., 0., 0., 0., 0., 0., 0., 0., 0., 0.,\n",
       "       0., 0., 0., 0., 0., 0., 0., 0., 0., 0., 0., 0., 0., 0., 0., 0., 0.,\n",
       "       0., 0., 0., 0., 0., 0., 0., 0., 0., 0., 0., 0., 0., 0., 0., 0., 0.,\n",
       "       0., 0., 0., 0., 0., 0., 0., 0., 0., 0., 0., 0., 0., 0., 0., 0., 0.,\n",
       "       0., 0., 0., 0., 0., 0., 0., 0., 0., 0., 0., 0., 0., 0., 0., 0., 0.,\n",
       "       0., 0., 0., 0., 0., 0., 0., 0., 0., 0., 0., 0., 0., 0., 0., 0., 0.,\n",
       "       0., 0., 0., 0., 0., 0., 0., 0., 0., 0., 0., 0., 0., 0., 0., 0., 0.,\n",
       "       0., 0., 0., 0., 0., 0., 0., 0., 0., 0., 0., 0., 0., 0., 0., 0., 0.,\n",
       "       0., 0., 0., 0., 0., 0., 0., 0., 0., 0., 0., 0., 0., 0.])"
      ]
     },
     "execution_count": 6,
     "metadata": {},
     "output_type": "execute_result"
    }
   ],
   "source": [
    "x_skglm"
   ]
  },
  {
   "cell_type": "code",
   "execution_count": null,
   "metadata": {},
   "outputs": [],
   "source": []
  }
 ],
 "metadata": {
  "kernelspec": {
   "display_name": "Python 3",
   "language": "python",
   "name": "python3"
  },
  "language_info": {
   "codemirror_mode": {
    "name": "ipython",
    "version": 3
   },
   "file_extension": ".py",
   "mimetype": "text/x-python",
   "name": "python",
   "nbconvert_exporter": "python",
   "pygments_lexer": "ipython3",
   "version": "3.7.6"
  }
 },
 "nbformat": 4,
 "nbformat_minor": 5
}
